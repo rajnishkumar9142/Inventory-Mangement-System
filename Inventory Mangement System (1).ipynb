{
 "cells": [
  {
   "cell_type": "markdown",
   "id": "b2c9f05d-d286-4b46-9608-bac5ff477680",
   "metadata": {},
   "source": [
    "## Product Details\n",
    "1.Product ID\r",
    "2.\n",
    "Name of Product3.\r\n",
    "Price of Produc4.t\r\n",
    "Quantity"
   ]
  },
  {
   "cell_type": "code",
   "execution_count": 6,
   "id": "7c067f6f-1256-43e7-b1ad-8a501d936b15",
   "metadata": {},
   "outputs": [],
   "source": [
    "fd = open(\"Inventory.txt\",'w')\n",
    "fd.close()"
   ]
  },
  {
   "cell_type": "code",
   "execution_count": 14,
   "id": "8be989b8-27e6-47f8-9d99-e19a02dd6212",
   "metadata": {},
   "outputs": [
    {
     "name": "stdin",
     "output_type": "stream",
     "text": [
      "Enter your Name:  rha\n",
      "Enter your Phone No:  53630639630603\n",
      "Enter your Mail:  jgsjs@gmail.com\n",
      "Enter product ID:  1\n",
      "Enter product Quantity:  20\n"
     ]
    },
    {
     "name": "stdout",
     "output_type": "stream",
     "text": [
      "Sorry, We're not having enought quantity.\n",
      "We're having only 0 quantity.\n",
      "Would you like to purchase it?\n"
     ]
    },
    {
     "name": "stdin",
     "output_type": "stream",
     "text": [
      "Press Y/N:  Y\n"
     ]
    },
    {
     "name": "stdout",
     "output_type": "stream",
     "text": [
      "-----------------------------\n",
      "Product Name     :  5 Star\n",
      "Price            :  5\n",
      "Quantity         :  0\n",
      "-----------------------------\n",
      "Billing Amount   :  0\n",
      "-----------------------------\n",
      "Inventory Updated\n"
     ]
    }
   ],
   "source": [
    "# Noting the time of trasection\n",
    "import time\n",
    "\n",
    "# Reading the Inventory\n",
    "fd = open('Inventory.txt','r')  \n",
    "products = fd.read().split('\\n')\n",
    "fd.close()\n",
    "\n",
    "# Taking User Input\n",
    "ui_username = input(\"Enter your Name: \")\n",
    "ui_phone    = input(\"Enter your Phone No: \")\n",
    "ui_mail     = input(\"Enter your Mail: \")\n",
    "ui_prod_id  = input(\"Enter product ID: \")\n",
    "ui_prod_qn  = input(\"Enter product Quantity: \")\n",
    "\n",
    "updated_product_lst = []\n",
    "\n",
    "# Going through each product detail\n",
    "for product in products:\n",
    "    prod_details = product.split(',')\n",
    "    if(prod_details[0] == ui_prod_id):\n",
    "    # Checking if product exists or not\n",
    "\n",
    "        if (int(ui_prod_qn) <= int(prod_details[3])):\n",
    "        # If we're having enough quantity\n",
    "        \n",
    "            print(\"-----------------------------\")\n",
    "            print(\"Product Name     : \", prod_details[1])\n",
    "            print(\"Price            : \", prod_details[2]) \n",
    "            print(\"Quantity         : \", ui_prod_qn) \n",
    "            print(\"-----------------------------\")\n",
    "            print(\"Billing Amount   : \", int(ui_prod_qn) * int(prod_details[2]))\n",
    "            print(\"-----------------------------\")\n",
    "\n",
    "            # Updating Inventory list\n",
    "            prod_details[3] = str(int(prod_details[3]) - int(ui_prod_qn))\n",
    "            \n",
    "            # Generating Sales in Sales.txt\n",
    "            fd = open(\"Sales.txt\",'a')\n",
    "            sales_detail = ui_username +\",\"+ ui_phone +\",\"+ ui_mail +\",\"+prod_details[1] +\",\"+ ui_prod_id +\",\"+ ui_prod_qn +\",\"+ str(int(ui_prod_qn) * int(prod_details[2]))+\",\"+time.ctime()+ \"\\n\"\n",
    "            fd.write(sales_detail)\n",
    "            fd.close()\n",
    "            \n",
    "        else:\n",
    "        # If we're not having enough quantity\n",
    "        \n",
    "            print(\"Sorry, We're not having enought quantity.\")\n",
    "            print(\"We're having only\",prod_details[3],'quantity.')\n",
    "            print(\"Would you like to purchase it?\")\n",
    "            \n",
    "            ch = input(\"Press Y/N: \")\n",
    "            \n",
    "            if (ch == 'Y' or ch == 'y'):\n",
    "            # If you want to purchase with remaining quantity\n",
    "            \n",
    "                print(\"-----------------------------\")\n",
    "                print(\"Product Name     : \", prod_details[1])\n",
    "                print(\"Price            : \", prod_details[2]) \n",
    "                print(\"Quantity         : \", prod_details[3]) \n",
    "                print(\"-----------------------------\")\n",
    "                print(\"Billing Amount   : \", int(prod_details[3]) * int(prod_details[2]))\n",
    "                print(\"-----------------------------\")\n",
    "                \n",
    "                # Generating Sales in Sales.txt\n",
    "                fd = open(\"Sales.txt\",'a')\n",
    "                sales_detail = ui_username +\",\"+ ui_phone +\",\"+ ui_mail +\",\"+prod_details[1] +\",\"+ ui_prod_id +\",\"+ prod_details[3] +\",\"+ str(int(prod_details[3]) * int(prod_details[2]))+\",\"+time.ctime()+ \"\\n\"\n",
    "                fd.write(sales_detail)\n",
    "                fd.close()\n",
    "                \n",
    "                # Updating Inventory list\n",
    "                prod_details[3] = '0'\n",
    "\n",
    "            else:\n",
    "                print(\"Thanks\")\n",
    "            \n",
    "    # Updating my Inventory List\n",
    "    updated_product_lst.append(prod_details)\n",
    "    \n",
    "\n",
    "    \n",
    "lst = []\n",
    "\n",
    "# Updating my Inventory String\n",
    "for i in updated_product_lst:\n",
    "    prod = i[0] +\",\"+  i[1] +\",\"+ i[2] +\",\"+ i[3] + '\\n'\n",
    "    lst.append(prod)\n",
    "\n",
    "# Removing Last \\n from the list\n",
    "lst[-1] = lst[-1][:-1]\n",
    "    \n",
    "\n",
    "# Updating Inventory File\n",
    "fd = open('Inventory.txt','w')\n",
    "\n",
    "for i in lst:\n",
    "    fd.write(i)\n",
    "fd.close()\n",
    "\n",
    "print(\"Inventory Updated\")"
   ]
  },
  {
   "cell_type": "code",
   "execution_count": null,
   "id": "d4455e59-c4dd-4710-b120-1014476bfec5",
   "metadata": {},
   "outputs": [],
   "source": []
  }
 ],
 "metadata": {
  "kernelspec": {
   "display_name": "Python 3 (ipykernel)",
   "language": "python",
   "name": "python3"
  },
  "language_info": {
   "codemirror_mode": {
    "name": "ipython",
    "version": 3
   },
   "file_extension": ".py",
   "mimetype": "text/x-python",
   "name": "python",
   "nbconvert_exporter": "python",
   "pygments_lexer": "ipython3",
   "version": "3.12.4"
  }
 },
 "nbformat": 4,
 "nbformat_minor": 5
}
